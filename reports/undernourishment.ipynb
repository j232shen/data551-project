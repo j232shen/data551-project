{
 "cells": [
  {
   "cell_type": "code",
   "execution_count": 1,
   "id": "372aef48-8c20-4a0d-b3e9-e8e44f469c40",
   "metadata": {},
   "outputs": [],
   "source": [
    "import dash\n",
    "from dash import html, dcc, Input, Output\n",
    "import pandas as pd \n",
    "import plotly.express as px"
   ]
  },
  {
   "cell_type": "code",
   "execution_count": 2,
   "id": "13d34ff7-e607-4b27-9a26-d8b6ca273c79",
   "metadata": {},
   "outputs": [],
   "source": [
    "df = pd.read_csv('FAOSTAT_data_en_nutrition.csv')\n",
    "#df"
   ]
  },
  {
   "cell_type": "code",
   "execution_count": 3,
   "id": "a6b6ca62-54ca-49cb-ac55-80d21c826150",
   "metadata": {},
   "outputs": [],
   "source": [
    "df['Value'] = df['Value'].astype(str).str.replace(\"<\", \"\", regex=False).astype(float)\n",
    "df['Year'] = df['Year'].astype(str).str[:4].astype(int)\n",
    "df_grouped = df.groupby(['Year','Area'], as_index=False)['Value'].mean()\n",
    "df_grouped['Value'] = df_grouped['Value'].fillna(0)"
   ]
  },
  {
   "cell_type": "code",
   "execution_count": 4,
   "id": "c4a31950-c403-4998-8579-35581ee37ea9",
   "metadata": {},
   "outputs": [
    {
     "data": {
      "text/html": [
       "\n",
       "        <iframe\n",
       "            width=\"100%\"\n",
       "            height=\"650\"\n",
       "            src=\"http://127.0.0.1:8050/\"\n",
       "            frameborder=\"0\"\n",
       "            allowfullscreen\n",
       "            \n",
       "        ></iframe>\n",
       "        "
      ],
      "text/plain": [
       "<IPython.lib.display.IFrame at 0x20212dfe750>"
      ]
     },
     "metadata": {},
     "output_type": "display_data"
    }
   ],
   "source": [
    "app = dash.Dash(__name__)\n",
    "app.layout = html.Div([\n",
    "    dcc.Dropdown(\n",
    "        id = 'Area_category',\n",
    "        options = [{\"label\": Area, \"value\": Area} for Area in df_grouped['Area'].unique()],\n",
    "        multi = True,\n",
    "        placeholder = \"Select Area\"\n",
    "    ),\n",
    "        dcc.Graph(id = 'line-chart')\n",
    "])\n",
    "\n",
    "@app.callback(\n",
    "    Output('line-chart', 'figure'),\n",
    "    Input('Area_category', 'value')\n",
    ")\n",
    "\n",
    "def update_chart(selected_area):\n",
    "    if not selected_area:\n",
    "         return px.line(title=\"Share of the population that is undernourished(Please select an area)\")\n",
    "    filtered_df = df_grouped[df_grouped['Area'].isin(selected_area)]\n",
    "    y_min = filtered_df['Value'].min() * 0.95  \n",
    "    y_max = filtered_df['Value'].max() * 1.05 \n",
    "    fig = px.line(filtered_df, x='Year', y = 'Value', color='Area', title=\"Share of the population that is undernourished\")\n",
    "    fig.update_layout(yaxis=dict(range=[y_min, y_max]))\n",
    "    return fig\n",
    "\n",
    "if __name__ == '__main__' :\n",
    "    app.run_server(debug=True)"
   ]
  },
  {
   "cell_type": "code",
   "execution_count": null,
   "id": "cbc7e813-2fde-4e3c-8950-d88672958aca",
   "metadata": {},
   "outputs": [],
   "source": []
  }
 ],
 "metadata": {
  "kernelspec": {
   "display_name": "Python 3 (ipykernel)",
   "language": "python",
   "name": "python3"
  },
  "language_info": {
   "codemirror_mode": {
    "name": "ipython",
    "version": 3
   },
   "file_extension": ".py",
   "mimetype": "text/x-python",
   "name": "python",
   "nbconvert_exporter": "python",
   "pygments_lexer": "ipython3",
   "version": "3.12.4"
  }
 },
 "nbformat": 4,
 "nbformat_minor": 5
}
