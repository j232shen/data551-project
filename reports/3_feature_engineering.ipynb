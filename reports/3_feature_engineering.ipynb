{
 "cells": [
  {
   "cell_type": "code",
   "execution_count": 33,
   "id": "4ce9595d-06dd-4258-9638-cd969584c36e",
   "metadata": {},
   "outputs": [],
   "source": [
    "import pandas as pd"
   ]
  },
  {
   "cell_type": "code",
   "execution_count": 35,
   "id": "7917642f-0e1c-4efd-819d-d1047d8446f0",
   "metadata": {},
   "outputs": [],
   "source": [
    "df = pd.read_parquet(\"../data/processed/wfp_preprocessed.parquet\")"
   ]
  },
  {
   "cell_type": "code",
   "execution_count": 37,
   "id": "a3246f5a-f1a6-4697-b702-4c7773d8149d",
   "metadata": {},
   "outputs": [],
   "source": [
    "# Delete the non-food\n",
    "df = df[df[\"category\"] != \"non-food\"]"
   ]
  },
  {
   "cell_type": "code",
   "execution_count": 39,
   "id": "5b4358c0-f5ea-4e6a-bc2d-63300a2c40f9",
   "metadata": {},
   "outputs": [],
   "source": [
    "# Split the \"Unit\" column into two separate columns: \"Value\" for numerical values and \"Unit\" for measurement units.\n",
    "df[\"Value\"] = df[\"unit\"].str.extract(r\"^(\\d*\\.?\\d+)\")\n",
    "df[\"Unit\"] = df[\"unit\"].str.extract(r\"^[\\d\\.]*\\s*(.*)\")\n",
    "df[\"Value\"] = df[\"Value\"].fillna(\"1\")\n",
    "df[\"Value\"] = df[\"Value\"].astype(float)"
   ]
  },
  {
   "cell_type": "code",
   "execution_count": 41,
   "id": "74e07ce3-55e8-4d15-a4bc-0a9b9a419804",
   "metadata": {},
   "outputs": [],
   "source": [
    "# Store the converted unit price in the \"standardprice\" column.\n",
    "df.loc[df[\"Unit\"] == \"KG\", \"standardprice\"] = (\n",
    "    df.loc[df[\"Unit\"] == \"KG\", \"usdprice\"] / df.loc[df[\"Unit\"] == \"KG\", \"Value\"]\n",
    ")\n",
    "df.loc[df[\"Unit\"] == \"G\", \"standardprice\"] = (\n",
    "    df.loc[df[\"Unit\"] == \"G\", \"usdprice\"] / df.loc[df[\"Unit\"] == \"G\", \"Value\"] * 1000\n",
    ")\n",
    "df.loc[df[\"Unit\"] == \"L\", \"standardprice\"] = (\n",
    "    df.loc[df[\"Unit\"] == \"L\", \"usdprice\"] / df.loc[df[\"Unit\"] == \"L\", \"Value\"]\n",
    ")\n",
    "df.loc[df[\"Unit\"] == \"ML\", \"standardprice\"] = (\n",
    "    df.loc[df[\"Unit\"] == \"ML\", \"usdprice\"] / df.loc[df[\"Unit\"] == \"ML\", \"Value\"] * 1000\n",
    ")\n",
    "df.loc[df[\"Unit\"] == \"Pounds\", \"standardprice\"] = (\n",
    "    df.loc[df[\"Unit\"] == \"Pounds\", \"usdprice\"]\n",
    "    / df.loc[df[\"Unit\"] == \"Pounds\", \"Value\"]\n",
    "    * 2.20462\n",
    ")\n",
    "df.loc[df[\"Unit\"] == \"Pound\", \"standardprice\"] = (\n",
    "    df.loc[df[\"Unit\"] == \"Pound\", \"usdprice\"] * 2.20462\n",
    ")\n",
    "df.loc[df[\"Unit\"] == \"pcs\", \"standardprice\"] = (\n",
    "    df.loc[df[\"Unit\"] == \"pcs\", \"usdprice\"] / df.loc[df[\"Unit\"] == \"pcs\", \"Value\"]\n",
    ")\n",
    "df.loc[df[\"Unit\"] == \"MT\", \"standardprice\"] = (\n",
    "    df.loc[df[\"Unit\"] == \"MT\", \"usdprice\"] / df.loc[df[\"Unit\"] == \"MT\", \"Value\"] / 1000\n",
    ")\n",
    "df.loc[df[\"Unit\"] == \"Tin (20 L)\", \"standardprice\"] = (\n",
    "    df.loc[df[\"Unit\"] == \"Tin (20 L)\", \"usdprice\"]\n",
    "    / df.loc[df[\"Unit\"] == \"Tin (20 L)\", \"Value\"]\n",
    "    / 20\n",
    ")\n",
    "df.loc[df[\"Unit\"] == \"Gallon\", \"standardprice\"] = (\n",
    "    df.loc[df[\"Unit\"] == \"Gallon\", \"usdprice\"]\n",
    "    / df.loc[df[\"Unit\"] == \"Gallon\", \"Value\"]\n",
    "    * 0.264172\n",
    ")\n",
    "df.loc[df[\"standardprice\"].isna(), \"standardprice\"] = df.loc[\n",
    "    df[\"standardprice\"].isna(), \"usdprice\"\n",
    "]"
   ]
  },
  {
   "cell_type": "code",
   "execution_count": 42,
   "id": "b1d20571-1d78-4b3b-b77e-9b4a4e8bdbf8",
   "metadata": {},
   "outputs": [],
   "source": [
    "# Standardize the units in the \"Unit\" column.\n",
    "df.loc[df[\"unit\"].str.contains(\"KG\", na=False), \"Unit\"] = \"1 KG\"\n",
    "df.loc[df[\"unit\"].str.contains(\"G\", na=False), \"Unit\"] = \"1 KG\"\n",
    "df.loc[df[\"unit\"].str.contains(\"L\", na=False), \"Unit\"] = \"1 L\"\n",
    "df.loc[df[\"unit\"].str.contains(\"ML\", na=False), \"Unit\"] = \"1 L\"\n",
    "df.loc[df[\"unit\"].str.contains(\"Pounds\", na=False), \"Unit\"] = \"1 KG\"\n",
    "df.loc[df[\"unit\"].str.contains(\"Pound\", na=False), \"Unit\"] = \"1 KG\"\n",
    "df.loc[df[\"unit\"].str.contains(\"MT\", na=False), \"Unit\"] = \"1 KG\"\n",
    "df.loc[df[\"unit\"].str.contains(\"pcs\", na=False), \"Unit\"] = \"1 piece\"\n",
    "df.loc[df[\"unit\"].str.contains(\"Tin(20 L)\", na=False, regex=False), \"Unit\"] = \"1 L\"\n",
    "df.loc[df[\"unit\"].str.contains(\"Gallon\", na=False), \"Unit\"] = \"1 L\""
   ]
  },
  {
   "cell_type": "code",
   "execution_count": 43,
   "id": "e9279006-1f73-444a-af7e-3eae556fcdb6",
   "metadata": {},
   "outputs": [
    {
     "data": {
      "text/plain": [
       "array(['1 KG', 'Head', '1 L', '1 piece', 'Tubers', 'Bunch', 'Unit',\n",
       "       'Packet', 'piece', 'Dozens', 'Box', 'Dozen', 'Heap', 'Day',\n",
       "       'Bundle', 'Package', 'Pile', 'Marmite', 'Cuartilla'], dtype=object)"
      ]
     },
     "execution_count": 43,
     "metadata": {},
     "output_type": "execute_result"
    }
   ],
   "source": [
    "df[\"Unit\"].unique()"
   ]
  },
  {
   "cell_type": "code",
   "execution_count": 44,
   "id": "202cb283-5e56-4c53-90f9-b6b8eb24094e",
   "metadata": {},
   "outputs": [],
   "source": [
    "df.loc[(df['market'] == 'Wadajir') & (df['latitude'].isna()), 'latitude'] = 2.0623\n",
    "df.loc[(df['market'] == 'Wadajir') & (df['longitude'].isna()), 'longitude'] = 45.3254\n",
    "\n",
    "df.loc[(df['market'] == 'Hola (Tana River)') & (df['latitude'].isna()), 'latitude'] = -2.4300\n",
    "df.loc[(df['market'] == 'Hola (Tana River)') & (df['longitude'].isna()), 'longitude'] = 38.9200\n",
    "\n",
    "df.loc[(df['market'] == 'Dulibadzimu Market') & (df['latitude'].isna()), 'latitude'] = -20.1582\n",
    "df.loc[(df['market'] == 'Dulibadzimu Market') & (df['longitude'].isna()), 'longitude'] = 28.5882\n",
    "\n",
    "df.loc[(df['market'] == 'Kombai') & (df['latitude'].isna()), 'latitude'] = -2.0290\n",
    "df.loc[(df['market'] == 'Kombai') & (df['longitude'].isna()), 'longitude'] = 141.9877\n",
    "\n",
    "df.loc[(df['market'] == 'Mandava') & (df['latitude'].isna()), 'latitude'] = -19.4142\n",
    "df.loc[(df['market'] == 'Mandava') & (df['longitude'].isna()), 'longitude'] =  29.0135\n",
    "\n",
    "df.loc[(df['market'] == 'Mucheke') & (df['latitude'].isna()), 'latitude'] = -20.1489\n",
    "df.loc[(df['market'] == 'Mucheke') & (df['longitude'].isna()), 'longitude'] = 28.6499\n",
    "\n",
    "df.loc[(df['market'] == 'Murombedzi') & (df['latitude'].isna()), 'latitude'] = -17.7658\n",
    "df.loc[(df['market'] == 'Murombedzi') & (df['longitude'].isna()), 'longitude'] = 30.3450\n",
    "\n",
    "df.loc[(df['market'] == 'Renkini Bus Terminus') & (df['latitude'].isna()), 'latitude'] = -17.7658\n",
    "df.loc[(df['market'] == 'Renkini Bus Terminus') & (df['longitude'].isna()), 'longitude'] = 30.3450\n",
    "\n",
    "df.loc[(df['market'] == 'Tshovani') & (df['latitude'].isna()), 'latitude'] = -20.8016\n",
    "df.loc[(df['market'] == 'Tshovani') & (df['longitude'].isna()), 'longitude'] = 29.5035\n",
    "\n",
    "df.loc[(df['market'] == 'Plumtree town')& (df['latitude'].isna()), 'latitude'] = -20.4439\n",
    "df.loc[(df['market'] == 'Plumtree town')& (df['longitude'].isna()), 'longitude'] = 27.4158\n",
    "\n",
    "df.loc[(df['market'] == 'Osaka') & (df['latitude'].isna()), 'latitude'] = 34.6937\n",
    "df.loc[(df['market'] == 'Osaka') & (df['longitude'].isna()), 'longitude'] = 135.5023\n",
    "\n",
    "df.loc[(df['market'] == 'Tokyo') & (df['latitude'].isna()), 'latitude'] = 35.6762\n",
    "df.loc[(df['market'] == 'Tokyo') & (df['longitude'].isna()), 'longitude'] = 139.6503\n",
    "\n",
    "df.loc[(df['market'] == 'Bichena') & (df['latitude'].isna()), 'latitude'] = 11.7500\n",
    "df.loc[(df['market'] == 'Bichena') & (df['longitude'].isna()) , 'longitude'] = 37.9000\n",
    "\n",
    "df.loc[(df['country'] == 'Nicaragua') & (df['latitude'].isna()) & (df['market'] == 'National Average (excl. capital)'), 'latitude'] =  12.1364\n",
    "df.loc[(df['country'] == 'Nicaragua') & (df['longitude'].isna()) & (df['market'] == 'National Average (excl. capital)'), 'longitude'] = -86.2514\n",
    "\n",
    "df.loc[(df['country'] == 'Nicaragua') & (df['latitude'].isna()) & (df['market'] == 'National Average'), 'latitude'] =  12.1364\n",
    "df.loc[(df['country'] == 'Nicaragua') & (df['longitude'].isna()) & (df['market'] == 'National Average'), 'longitude'] = -86.2514\n",
    "\n",
    "df.loc[(df['country'] == 'Eswatini') & (df['latitude'].isna())& (df['market'] == 'National Average'), 'latitude'] = -26.3044\n",
    "df.loc[(df['country'] == 'Eswatini') & (df['longitude'].isna())& (df['market'] == 'National Average') , 'longitude'] = 31.1344\n",
    "\n",
    "df.loc[(df['country'] == 'Costa Rica') & (df['latitude'].isna())& (df['market'] == 'National Average'), 'latitude'] = 9.9281\n",
    "df.loc[(df['country'] == 'Costa Rica') & (df['longitude'].isna()) & (df['market'] == 'National Average'), 'longitude'] = -84.0907\n",
    "\n",
    "df.loc[(df['country'] == 'Egypt') & (df['latitude'].isna())& (df['market'] == 'National Average'), 'latitude'] = 30.0444\n",
    "df.loc[(df['country'] == 'Egypt') & (df['longitude'].isna())& (df['market'] == 'National Average') , 'longitude'] = 31.2357\n",
    "\n",
    "df.loc[(df['country'] == 'Indonesia') & (df['latitude'].isna())& (df['market'] == 'National Average'), 'latitude'] = -6.2088\n",
    "df.loc[(df['country'] == 'Indonesia') & (df['longitude'].isna())& (df['market'] == 'National Average') , 'longitude'] = 106.8456\n",
    "\n",
    "df.loc[(df['country'] == 'El Salvador') & (df['latitude'].isna())& (df['market'] == 'National Average'), 'latitude'] = 13.6929\n",
    "df.loc[(df['country'] == 'El Salvador') & (df['longitude'].isna())& (df['market'] == 'National Average') , 'longitude'] = -89.2182\n",
    "\n",
    "df.loc[(df['country'] == 'Angola') & (df['latitude'].isna())& (df['market'] == 'National Average'), 'latitude'] = -8.8390\n",
    "df.loc[(df['country'] == 'Angola') & (df['longitude'].isna())& (df['market'] == 'National Average') , 'longitude'] = 13.2894\n",
    "\n",
    "df.loc[(df['country'] == 'Guatemala') & (df['latitude'].isna())& (df['market'] == 'National Average'), 'latitude'] = 14.6349\n",
    "df.loc[(df['country'] == 'Guatemala') & (df['longitude'].isna())& (df['market'] == 'National Average') , 'longitude'] = -90.5069\n",
    "\n",
    "df.loc[(df['country'] == 'Ukraine') & (df['latitude'].isna()) & (df['market'] == 'National Average'), 'latitude'] = 50.4501\n",
    "df.loc[(df['country'] == 'Ukraine') & (df['longitude'].isna()) & (df['market'] == 'National Average'), 'longitude'] = 30.5236\n",
    "\n",
    "df.loc[(df['country'] == 'Turkiye') & (df['latitude'].isna()) & (df['market'] == 'National Average'), 'latitude'] = 39.9334\n",
    "df.loc[(df['country'] == 'Turkiye') & (df['longitude'].isna()) & (df['market'] == 'National Average'), 'longitude'] = 32.8597\n",
    "\n",
    "df.loc[(df['country'] == 'Sri Lanka') & (df['latitude'].isna()) & (df['market'] == 'National Average'), 'latitude'] = 6.9271\n",
    "df.loc[(df['country'] == 'Sri Lanka') & (df['longitude'].isna()) & (df['market'] == 'National Average'), 'longitude'] = 79.9965\n",
    "\n",
    "df.loc[(df['country'] == 'Chad') & (df['latitude'].isna()) & (df['market'] == 'National Average'), 'latitude'] = 12.6349\n",
    "df.loc[(df['country'] == 'Chad') & (df['longitude'].isna()) & (df['market'] == 'National Average'), 'longitude'] = 14.0565\n",
    "\n",
    "df.loc[(df['country'] == 'India') & (df['latitude'].isna()) & (df['market'] == 'National Average'), 'latitude'] = 28.6139\n",
    "df.loc[(df['country'] == 'India') & (df['longitude'].isna()) & (df['market'] == 'National Average'), 'longitude'] = 77.2090\n",
    "\n",
    "df.loc[(df['country'] == 'Panama') & (df['latitude'].isna()) & (df['market'] == 'National Average'), 'latitude'] = 8.9833\n",
    "df.loc[(df['country'] == 'Panama') & (df['longitude'].isna()) & (df['market'] == 'National Average'), 'longitude'] = -79.5167\n",
    "\n",
    "df.loc[(df['country'] == 'Nicaragua') & (df['latitude'].isna()) & (df['market'] == 'National Average'), 'latitude'] = 12.1364\n",
    "df.loc[(df['country'] == 'Nicaragua') & (df['longitude'].isna()) & (df['market'] == 'National Average'), 'longitude'] = -86.2514\n",
    "\n",
    "df.loc[(df['country'] == 'Honduras') & (df['latitude'].isna()) & (df['market'] == 'National Average'), 'latitude'] = 13.9676\n",
    "df.loc[(df['country'] == 'Honduras') & (df['longitude'].isna()) & (df['market'] == 'National Average'), 'longitude'] = -86.2419\n",
    "\n",
    "df.loc[(df['country'] == 'Dominican Republic') & (df['latitude'].isna()) & (df['market'] == 'National Average'), 'latitude'] = 18.4760\n",
    "df.loc[(df['country'] == 'Dominican Republic') & (df['longitude'].isna()) & (df['market'] == 'National Average'), 'longitude'] = -69.8905\n",
    "\n",
    "df.loc[(df['country'] == 'Kyrgyzstan') & (df['latitude'].isna()) & (df['market'] == 'National Average'), 'latitude'] = 42.8746\n",
    "df.loc[(df['country'] == 'Kyrgyzstan') & (df['longitude'].isna()) & (df['market'] == 'National Average'), 'longitude'] = 74.6121\n",
    "\n",
    "df.loc[(df['country'] == 'Jordan') & (df['latitude'].isna()) & (df['market'] == 'National Average'), 'latitude'] = 31.9686\n",
    "df.loc[(df['country'] == 'Jordan') & (df['longitude'].isna()) & (df['market'] == 'National Average'), 'longitude'] = 35.9342"
   ]
  },
  {
   "cell_type": "code",
   "execution_count": 45,
   "id": "07115c56-69be-4b7b-8ed9-12d7d429b983",
   "metadata": {},
   "outputs": [
    {
     "data": {
      "text/html": [
       "<div>\n",
       "<style scoped>\n",
       "    .dataframe tbody tr th:only-of-type {\n",
       "        vertical-align: middle;\n",
       "    }\n",
       "\n",
       "    .dataframe tbody tr th {\n",
       "        vertical-align: top;\n",
       "    }\n",
       "\n",
       "    .dataframe thead th {\n",
       "        text-align: right;\n",
       "    }\n",
       "</style>\n",
       "<table border=\"1\" class=\"dataframe\">\n",
       "  <thead>\n",
       "    <tr style=\"text-align: right;\">\n",
       "      <th></th>\n",
       "      <th>date</th>\n",
       "      <th>admin1</th>\n",
       "      <th>admin2</th>\n",
       "      <th>market</th>\n",
       "      <th>latitude</th>\n",
       "      <th>longitude</th>\n",
       "      <th>category</th>\n",
       "      <th>commodity</th>\n",
       "      <th>unit</th>\n",
       "      <th>priceflag</th>\n",
       "      <th>pricetype</th>\n",
       "      <th>currency</th>\n",
       "      <th>price</th>\n",
       "      <th>usdprice</th>\n",
       "      <th>countryiso3</th>\n",
       "      <th>country</th>\n",
       "      <th>Value</th>\n",
       "      <th>Unit</th>\n",
       "      <th>standardprice</th>\n",
       "    </tr>\n",
       "  </thead>\n",
       "  <tbody>\n",
       "  </tbody>\n",
       "</table>\n",
       "</div>"
      ],
      "text/plain": [
       "Empty DataFrame\n",
       "Columns: [date, admin1, admin2, market, latitude, longitude, category, commodity, unit, priceflag, pricetype, currency, price, usdprice, countryiso3, country, Value, Unit, standardprice]\n",
       "Index: []"
      ]
     },
     "execution_count": 45,
     "metadata": {},
     "output_type": "execute_result"
    }
   ],
   "source": [
    "df[(df['latitude'].isna())|(df['longitude'].isna())]"
   ]
  },
  {
   "cell_type": "code",
   "execution_count": 57,
   "id": "27d7b1ac-aa3f-4de2-8a0d-fba557717856",
   "metadata": {},
   "outputs": [],
   "source": [
    "df.loc[(df['admin2'].isna()) & ((df['market'] != 'National Average') & (df['market'] != 'National Average (excl. capital)')), 'admin2'] = df['market']\n",
    "df.loc[(df['admin2'].isna()) & (df['market'].isin(['National Average', 'National Average (excl. capital)'])), 'admin2'] = df['country']"
   ]
  },
  {
   "cell_type": "code",
   "execution_count": 59,
   "id": "3aaabb82-3280-4788-91e8-72fa5391aca4",
   "metadata": {},
   "outputs": [
    {
     "data": {
      "text/html": [
       "<div>\n",
       "<style scoped>\n",
       "    .dataframe tbody tr th:only-of-type {\n",
       "        vertical-align: middle;\n",
       "    }\n",
       "\n",
       "    .dataframe tbody tr th {\n",
       "        vertical-align: top;\n",
       "    }\n",
       "\n",
       "    .dataframe thead th {\n",
       "        text-align: right;\n",
       "    }\n",
       "</style>\n",
       "<table border=\"1\" class=\"dataframe\">\n",
       "  <thead>\n",
       "    <tr style=\"text-align: right;\">\n",
       "      <th></th>\n",
       "      <th>date</th>\n",
       "      <th>admin1</th>\n",
       "      <th>admin2</th>\n",
       "      <th>market</th>\n",
       "      <th>latitude</th>\n",
       "      <th>longitude</th>\n",
       "      <th>category</th>\n",
       "      <th>commodity</th>\n",
       "      <th>unit</th>\n",
       "      <th>priceflag</th>\n",
       "      <th>pricetype</th>\n",
       "      <th>currency</th>\n",
       "      <th>price</th>\n",
       "      <th>usdprice</th>\n",
       "      <th>countryiso3</th>\n",
       "      <th>country</th>\n",
       "      <th>Value</th>\n",
       "      <th>Unit</th>\n",
       "      <th>standardprice</th>\n",
       "    </tr>\n",
       "  </thead>\n",
       "  <tbody>\n",
       "  </tbody>\n",
       "</table>\n",
       "</div>"
      ],
      "text/plain": [
       "Empty DataFrame\n",
       "Columns: [date, admin1, admin2, market, latitude, longitude, category, commodity, unit, priceflag, pricetype, currency, price, usdprice, countryiso3, country, Value, Unit, standardprice]\n",
       "Index: []"
      ]
     },
     "execution_count": 59,
     "metadata": {},
     "output_type": "execute_result"
    }
   ],
   "source": [
    "df[df['admin2'].isna()]"
   ]
  },
  {
   "cell_type": "code",
   "execution_count": 69,
   "id": "0b04fbd8-2c4d-434e-8a7f-28be915807ec",
   "metadata": {},
   "outputs": [],
   "source": [
    "df.to_parquet(\"../data/processed/newest_dataset.parquet\", index=False)"
   ]
  },
  {
   "cell_type": "code",
   "execution_count": null,
   "id": "55b626a2-d678-4cef-9af6-b9a82e0c472b",
   "metadata": {},
   "outputs": [],
   "source": []
  }
 ],
 "metadata": {
  "kernelspec": {
   "display_name": "Python 3 (ipykernel)",
   "language": "python",
   "name": "python3"
  },
  "language_info": {
   "codemirror_mode": {
    "name": "ipython",
    "version": 3
   },
   "file_extension": ".py",
   "mimetype": "text/x-python",
   "name": "python",
   "nbconvert_exporter": "python",
   "pygments_lexer": "ipython3",
   "version": "3.12.3"
  }
 },
 "nbformat": 4,
 "nbformat_minor": 5
}
