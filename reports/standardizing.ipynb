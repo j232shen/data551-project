{
 "cells": [
  {
   "cell_type": "code",
   "execution_count": 259,
   "id": "4ce9595d-06dd-4258-9638-cd969584c36e",
   "metadata": {},
   "outputs": [],
   "source": [
    "import pandas as pd"
   ]
  },
  {
   "cell_type": "code",
   "execution_count": 261,
   "id": "7917642f-0e1c-4efd-819d-d1047d8446f0",
   "metadata": {},
   "outputs": [],
   "source": [
    "df = pd.read_parquet('wfp_preprocessed.parquet')"
   ]
  },
  {
   "cell_type": "code",
   "execution_count": 262,
   "id": "a3246f5a-f1a6-4697-b702-4c7773d8149d",
   "metadata": {},
   "outputs": [],
   "source": [
    "df = df[df['category']!='non-food']\n",
    "#df['unit'].unique()"
   ]
  },
  {
   "cell_type": "code",
   "execution_count": 263,
   "id": "5b4358c0-f5ea-4e6a-bc2d-63300a2c40f9",
   "metadata": {},
   "outputs": [],
   "source": [
    "#Split the \"Unit\" column into two separate columns: \"Value\" for numerical values and \"Unit\" for measurement units.\n",
    "df['Value'] = df['unit'].str.extract(r'^(\\d*\\.?\\d+)') \n",
    "df['Unit'] = df['unit'].str.extract(r'^[\\d\\.]*\\s*(.*)')  \n",
    "df['Value'] = df['Value'].fillna('1')\n",
    "df['Value']=df['Value'].astype(float)"
   ]
  },
  {
   "cell_type": "code",
   "execution_count": 264,
   "id": "74e07ce3-55e8-4d15-a4bc-0a9b9a419804",
   "metadata": {},
   "outputs": [],
   "source": [
    "#Store the converted unit price in the \"standardprice\" column.\n",
    "df.loc[df['Unit'] == 'KG', 'standardprice'] = df.loc[df['Unit'] == 'KG', 'usdprice'] / df.loc[df['Unit'] == 'KG', 'Value']\n",
    "df.loc[df['Unit'] == 'G', 'standardprice'] = df.loc[df['Unit'] == 'G', 'usdprice'] / df.loc[df['Unit'] == 'G', 'Value']*1000\n",
    "df.loc[df['Unit'] == 'L', 'standardprice'] = df.loc[df['Unit'] == 'L', 'usdprice'] / df.loc[df['Unit'] == 'L', 'Value']\n",
    "df.loc[df['Unit'] == 'ML', 'standardprice'] = df.loc[df['Unit'] == 'ML', 'usdprice'] / df.loc[df['Unit'] == 'ML', 'Value']*1000\n",
    "df.loc[df['Unit'] == 'Pounds', 'standardprice'] = df.loc[df['Unit'] == 'Pounds', 'usdprice'] / df.loc[df['Unit'] == 'Pounds', 'Value']*0.45359237\n",
    "df.loc[df['Unit'] == 'Pound', 'standardprice'] = df.loc[df['Unit'] == 'Pound', 'usdprice']*0.45359237\n",
    "df.loc[df['Unit'] == 'pcs', 'standardprice'] = df.loc[df['Unit'] == 'pcs', 'usdprice'] / df.loc[df['Unit'] == 'pcs', 'Value']\n",
    "df.loc[df['Unit'] == 'MT', 'standardprice'] = df.loc[df['Unit'] == 'MT', 'usdprice'] / df.loc[df['Unit'] == 'MT', 'Value']/1000\n",
    "df.loc[df['Unit'] == 'Tin (20 L)', 'standardprice'] = df.loc[df['Unit'] == 'Tin (20 L)', 'usdprice'] / df.loc[df['Unit'] == 'Tin (20 L)', 'Value']/20\n",
    "df.loc[df['standardprice'].isna(), 'standardprice'] = df.loc[df['standardprice'].isna(), 'usdprice']"
   ]
  },
  {
   "cell_type": "code",
   "execution_count": 265,
   "id": "b1d20571-1d78-4b3b-b77e-9b4a4e8bdbf8",
   "metadata": {},
   "outputs": [],
   "source": [
    "#Standardize the units in the \"Unit\" column.\n",
    "df.loc[df['unit'].str.contains('KG', na=False), 'unit'] = '1 KG'\n",
    "df.loc[df['unit'].str.contains('G', na=False), 'unit'] = '1 KG'\n",
    "df.loc[df['unit'].str.contains('L', na=False), 'unit'] = '1 L'\n",
    "df.loc[df['unit'].str.contains('ML', na=False), 'unit'] = '1 L'\n",
    "df.loc[df['unit'].str.contains('Pounds', na=False), 'unit'] = '1 KG'\n",
    "df.loc[df['unit'].str.contains('Pound', na=False), 'unit'] = '1 KG'\n",
    "df.loc[df['unit'].str.contains('MT', na=False), 'unit'] = '1 KG'\n",
    "df.loc[df['unit'].str.contains('pcs', na=False), 'unit'] = '1 piece'\n",
    "df.loc[df['unit'].str.contains('Tin(20 L)', na=False, regex=False), 'unit'] = '1 L'"
   ]
  },
  {
   "cell_type": "code",
   "execution_count": 266,
   "id": "e9279006-1f73-444a-af7e-3eae556fcdb6",
   "metadata": {},
   "outputs": [
    {
     "data": {
      "text/plain": [
       "array(['1 KG', 'Head', '1 L', '1 piece', '100 Tubers', 'Bunch', 'Unit',\n",
       "       'Packet', '2 Dozens', 'Box', 'Dozen', 'Heap', 'Day', 'Bundle',\n",
       "       'Package', 'Pile', 'Marmite', 'Cuartilla'], dtype=object)"
      ]
     },
     "execution_count": 266,
     "metadata": {},
     "output_type": "execute_result"
    }
   ],
   "source": [
    "df['unit'].unique()"
   ]
  },
  {
   "cell_type": "code",
   "execution_count": null,
   "id": "0b04fbd8-2c4d-434e-8a7f-28be915807ec",
   "metadata": {},
   "outputs": [],
   "source": []
  }
 ],
 "metadata": {
  "kernelspec": {
   "display_name": "Python 3 (ipykernel)",
   "language": "python",
   "name": "python3"
  },
  "language_info": {
   "codemirror_mode": {
    "name": "ipython",
    "version": 3
   },
   "file_extension": ".py",
   "mimetype": "text/x-python",
   "name": "python",
   "nbconvert_exporter": "python",
   "pygments_lexer": "ipython3",
   "version": "3.12.4"
  }
 },
 "nbformat": 4,
 "nbformat_minor": 5
}
