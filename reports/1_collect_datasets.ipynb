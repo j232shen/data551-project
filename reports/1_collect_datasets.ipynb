{
 "cells": [
  {
   "cell_type": "code",
   "execution_count": 3,
   "metadata": {},
   "outputs": [],
   "source": [
    "import csv\n",
    "import os\n",
    "import requests\n",
    "from bs4 import BeautifulSoup\n",
    "import urllib.parse\n",
    "import pandas as pd"
   ]
  },
  {
   "cell_type": "code",
   "execution_count": null,
   "metadata": {},
   "outputs": [],
   "source": [
    "BASE_URL = \"https://data.humdata.org\"\n",
    "CSV_FILE_PATH = \"./dataset/wfp_countries_global.csv\"\n",
    "OUTPUT_DIR = \"./dataset\"\n",
    "os.makedirs(OUTPUT_DIR, exist_ok=True)"
   ]
  },
  {
   "cell_type": "code",
   "execution_count": null,
   "metadata": {},
   "outputs": [
    {
     "name": "stdout",
     "output_type": "stream",
     "text": [
      "[INFO] Now processing: IRN, URL=https://data.humdata.org/dataset/wfp-food-prices-for-iran-islamic-republic-of\n",
      " - Downloaded: /Users/jaeeunc/Desktop/MDS/Block5/DS551/project/dataset/wfp_food_prices_irn.csv\n",
      "[INFO] Now processing: IRQ, URL=https://data.humdata.org/dataset/wfp-food-prices-for-iraq\n",
      " - Downloaded: /Users/jaeeunc/Desktop/MDS/Block5/DS551/project/dataset/wfp_food_prices_irq.csv\n",
      "[INFO] Now processing: JOR, URL=https://data.humdata.org/dataset/wfp-food-prices-for-jordan\n",
      " - Downloaded: /Users/jaeeunc/Desktop/MDS/Block5/DS551/project/dataset/wfp_food_prices_jor.csv\n",
      "[INFO] Now processing: JPN, URL=https://data.humdata.org/dataset/wfp-food-prices-for-japan\n",
      " - Downloaded: /Users/jaeeunc/Desktop/MDS/Block5/DS551/project/dataset/wfp_food_prices_jpn.csv\n",
      "[INFO] Now processing: KAZ, URL=https://data.humdata.org/dataset/wfp-food-prices-for-kazakhstan\n",
      " - Downloaded: /Users/jaeeunc/Desktop/MDS/Block5/DS551/project/dataset/wfp_food_prices_kaz.csv\n",
      "[INFO] Now processing: KEN, URL=https://data.humdata.org/dataset/wfp-food-prices-for-kenya\n",
      " - Downloaded: /Users/jaeeunc/Desktop/MDS/Block5/DS551/project/dataset/wfp_food_prices_ken.csv\n",
      "[INFO] Now processing: KGZ, URL=https://data.humdata.org/dataset/wfp-food-prices-for-kyrgyzstan\n",
      " - Downloaded: /Users/jaeeunc/Desktop/MDS/Block5/DS551/project/dataset/wfp_food_prices_kgz.csv\n",
      "[INFO] Now processing: KHM, URL=https://data.humdata.org/dataset/wfp-food-prices-for-cambodia\n",
      " - Downloaded: /Users/jaeeunc/Desktop/MDS/Block5/DS551/project/dataset/wfp_food_prices_khm.csv\n",
      "[INFO] Now processing: LAO, URL=https://data.humdata.org/dataset/wfp-food-prices-for-lao-people-s-democratic-republic\n",
      " - Downloaded: /Users/jaeeunc/Desktop/MDS/Block5/DS551/project/dataset/wfp_food_prices_lao.csv\n",
      "[INFO] Now processing: LBN, URL=https://data.humdata.org/dataset/wfp-food-prices-for-lebanon\n",
      " - Downloaded: /Users/jaeeunc/Desktop/MDS/Block5/DS551/project/dataset/wfp_food_prices_lbn.csv\n",
      "[INFO] Now processing: LBR, URL=https://data.humdata.org/dataset/wfp-food-prices-for-liberia\n",
      " - Downloaded: /Users/jaeeunc/Desktop/MDS/Block5/DS551/project/dataset/wfp_food_prices_lbr.csv\n",
      "[INFO] Now processing: LBY, URL=https://data.humdata.org/dataset/wfp-food-prices-for-libya\n",
      " - Downloaded: /Users/jaeeunc/Desktop/MDS/Block5/DS551/project/dataset/wfp_food_prices_lby.csv\n",
      "[INFO] Now processing: LKA, URL=https://data.humdata.org/dataset/wfp-food-prices-for-sri-lanka\n",
      " - Downloaded: /Users/jaeeunc/Desktop/MDS/Block5/DS551/project/dataset/wfp_food_prices_lka.csv\n",
      "[INFO] Now processing: LSO, URL=https://data.humdata.org/dataset/wfp-food-prices-for-lesotho\n",
      " - Downloaded: /Users/jaeeunc/Desktop/MDS/Block5/DS551/project/dataset/wfp_food_prices_lso.csv\n",
      "[INFO] Now processing: MDA, URL=https://data.humdata.org/dataset/wfp-food-prices-for-republic-of-moldova\n",
      " - Downloaded: /Users/jaeeunc/Desktop/MDS/Block5/DS551/project/dataset/wfp_food_prices_mda.csv\n",
      "[INFO] Now processing: MDG, URL=https://data.humdata.org/dataset/wfp-food-prices-for-madagascar\n",
      " - Downloaded: /Users/jaeeunc/Desktop/MDS/Block5/DS551/project/dataset/wfp_food_prices_mdg.csv\n",
      "[INFO] Now processing: MEX, URL=https://data.humdata.org/dataset/wfp-food-prices-for-mexico\n",
      " - Downloaded: /Users/jaeeunc/Desktop/MDS/Block5/DS551/project/dataset/wfp_food_prices_mex.csv\n",
      "[INFO] Now processing: MLI, URL=https://data.humdata.org/dataset/wfp-food-prices-for-mali\n",
      " - Downloaded: /Users/jaeeunc/Desktop/MDS/Block5/DS551/project/dataset/wfp_food_prices_mli.csv\n",
      "[INFO] Now processing: MMR, URL=https://data.humdata.org/dataset/wfp-food-prices-for-myanmar\n",
      " - Downloaded: /Users/jaeeunc/Desktop/MDS/Block5/DS551/project/dataset/wfp_food_prices_mmr.csv\n",
      "[INFO] Now processing: MNG, URL=https://data.humdata.org/dataset/wfp-food-prices-for-mongolia\n",
      " - Downloaded: /Users/jaeeunc/Desktop/MDS/Block5/DS551/project/dataset/wfp_food_prices_mng.csv\n",
      "[INFO] Now processing: MOZ, URL=https://data.humdata.org/dataset/wfp-food-prices-for-mozambique\n",
      " - Downloaded: /Users/jaeeunc/Desktop/MDS/Block5/DS551/project/dataset/wfp_food_prices_moz.csv\n",
      "[INFO] Now processing: MRT, URL=https://data.humdata.org/dataset/wfp-food-prices-for-mauritania\n",
      " - Downloaded: /Users/jaeeunc/Desktop/MDS/Block5/DS551/project/dataset/wfp_food_prices_mrt.csv\n",
      "[INFO] Now processing: MWI, URL=https://data.humdata.org/dataset/wfp-food-prices-for-malawi\n",
      " - Downloaded: /Users/jaeeunc/Desktop/MDS/Block5/DS551/project/dataset/wfp_food_prices_mwi.csv\n",
      "[INFO] Now processing: NAM, URL=https://data.humdata.org/dataset/wfp-food-prices-for-namibia\n",
      " - Downloaded: /Users/jaeeunc/Desktop/MDS/Block5/DS551/project/dataset/wfp_food_prices_nam.csv\n",
      "[INFO] Now processing: NER, URL=https://data.humdata.org/dataset/wfp-food-prices-for-niger\n",
      " - Downloaded: /Users/jaeeunc/Desktop/MDS/Block5/DS551/project/dataset/wfp_food_prices_ner.csv\n",
      "[INFO] Now processing: NGA, URL=https://data.humdata.org/dataset/wfp-food-prices-for-nigeria\n",
      " - Downloaded: /Users/jaeeunc/Desktop/MDS/Block5/DS551/project/dataset/wfp_food_prices_nga.csv\n",
      "[INFO] Now processing: NIC, URL=https://data.humdata.org/dataset/wfp-food-prices-for-nicaragua\n",
      " - Downloaded: /Users/jaeeunc/Desktop/MDS/Block5/DS551/project/dataset/wfp_food_prices_nic.csv\n",
      "[INFO] Now processing: NPL, URL=https://data.humdata.org/dataset/wfp-food-prices-for-nepal\n",
      " - Downloaded: /Users/jaeeunc/Desktop/MDS/Block5/DS551/project/dataset/wfp_food_prices_npl.csv\n",
      "[INFO] Now processing: PAK, URL=https://data.humdata.org/dataset/wfp-food-prices-for-pakistan\n",
      " - Downloaded: /Users/jaeeunc/Desktop/MDS/Block5/DS551/project/dataset/wfp_food_prices_pak.csv\n",
      "[INFO] Now processing: PAN, URL=https://data.humdata.org/dataset/wfp-food-prices-for-panama\n",
      " - Downloaded: /Users/jaeeunc/Desktop/MDS/Block5/DS551/project/dataset/wfp_food_prices_pan.csv\n",
      "[INFO] Now processing: PER, URL=https://data.humdata.org/dataset/wfp-food-prices-for-peru\n",
      " - Downloaded: /Users/jaeeunc/Desktop/MDS/Block5/DS551/project/dataset/wfp_food_prices_per.csv\n",
      "[INFO] Now processing: PHL, URL=https://data.humdata.org/dataset/wfp-food-prices-for-philippines\n",
      " - Downloaded: /Users/jaeeunc/Desktop/MDS/Block5/DS551/project/dataset/wfp_food_prices_phl.csv\n",
      "[INFO] Now processing: PRY, URL=https://data.humdata.org/dataset/wfp-food-prices-for-paraguay\n",
      " - Downloaded: /Users/jaeeunc/Desktop/MDS/Block5/DS551/project/dataset/wfp_food_prices_pry.csv\n",
      "[INFO] Now processing: PSE, URL=https://data.humdata.org/dataset/wfp-food-prices-for-state-of-palestine\n",
      " - Downloaded: /Users/jaeeunc/Desktop/MDS/Block5/DS551/project/dataset/wfp_food_prices_pse.csv\n",
      "[INFO] Now processing: RUS, URL=https://data.humdata.org/dataset/wfp-food-prices-for-russian-federation\n",
      " - Downloaded: /Users/jaeeunc/Desktop/MDS/Block5/DS551/project/dataset/wfp_food_prices_rus.csv\n",
      "[INFO] Now processing: RWA, URL=https://data.humdata.org/dataset/wfp-food-prices-for-rwanda\n",
      " - Downloaded: /Users/jaeeunc/Desktop/MDS/Block5/DS551/project/dataset/wfp_food_prices_rwa.csv\n",
      "[INFO] Now processing: SDN, URL=https://data.humdata.org/dataset/wfp-food-prices-for-sudan\n",
      " - Downloaded: /Users/jaeeunc/Desktop/MDS/Block5/DS551/project/dataset/wfp_food_prices_sdn.csv\n",
      "[INFO] Now processing: SEN, URL=https://data.humdata.org/dataset/wfp-food-prices-for-senegal\n",
      " - Downloaded: /Users/jaeeunc/Desktop/MDS/Block5/DS551/project/dataset/wfp_food_prices_sen.csv\n",
      "[INFO] Now processing: SLE, URL=https://data.humdata.org/dataset/wfp-food-prices-for-sierra-leone\n",
      " - Downloaded: /Users/jaeeunc/Desktop/MDS/Block5/DS551/project/dataset/wfp_food_prices_sle.csv\n",
      "[INFO] Now processing: SLV, URL=https://data.humdata.org/dataset/wfp-food-prices-for-el-salvador\n",
      " - Downloaded: /Users/jaeeunc/Desktop/MDS/Block5/DS551/project/dataset/wfp_food_prices_slv.csv\n",
      "[INFO] Now processing: SOM, URL=https://data.humdata.org/dataset/wfp-food-prices-for-somalia\n",
      " - Downloaded: /Users/jaeeunc/Desktop/MDS/Block5/DS551/project/dataset/wfp_food_prices_som.csv\n",
      "[INFO] Now processing: SSD, URL=https://data.humdata.org/dataset/wfp-food-prices-for-south-sudan\n",
      " - Downloaded: /Users/jaeeunc/Desktop/MDS/Block5/DS551/project/dataset/wfp_food_prices_ssd.csv\n",
      "[INFO] Now processing: SWZ, URL=https://data.humdata.org/dataset/wfp-food-prices-for-eswatini\n",
      " - Downloaded: /Users/jaeeunc/Desktop/MDS/Block5/DS551/project/dataset/wfp_food_prices_swz.csv\n",
      "[INFO] Now processing: SYR, URL=https://data.humdata.org/dataset/wfp-food-prices-for-syrian-arab-republic\n",
      " - Downloaded: /Users/jaeeunc/Desktop/MDS/Block5/DS551/project/dataset/wfp_food_prices_syr.csv\n",
      "[INFO] Now processing: TCD, URL=https://data.humdata.org/dataset/wfp-food-prices-for-chad\n",
      " - Downloaded: /Users/jaeeunc/Desktop/MDS/Block5/DS551/project/dataset/wfp_food_prices_tcd.csv\n",
      "[INFO] Now processing: TGO, URL=https://data.humdata.org/dataset/wfp-food-prices-for-togo\n",
      " - Downloaded: /Users/jaeeunc/Desktop/MDS/Block5/DS551/project/dataset/wfp_food_prices_tgo.csv\n",
      "[INFO] Now processing: THA, URL=https://data.humdata.org/dataset/wfp-food-prices-for-thailand\n",
      " - Downloaded: /Users/jaeeunc/Desktop/MDS/Block5/DS551/project/dataset/wfp_food_prices_tha.csv\n",
      "[INFO] Now processing: TJK, URL=https://data.humdata.org/dataset/wfp-food-prices-for-tajikistan\n",
      " - Downloaded: /Users/jaeeunc/Desktop/MDS/Block5/DS551/project/dataset/wfp_food_prices_tjk.csv\n",
      "[INFO] Now processing: TLS, URL=https://data.humdata.org/dataset/wfp-food-prices-for-timor-leste\n",
      " - Downloaded: /Users/jaeeunc/Desktop/MDS/Block5/DS551/project/dataset/wfp_food_prices_tls.csv\n",
      "[INFO] Now processing: TUR, URL=https://data.humdata.org/dataset/wfp-food-prices-for-turkiye\n",
      " - Downloaded: /Users/jaeeunc/Desktop/MDS/Block5/DS551/project/dataset/wfp_food_prices_tur.csv\n",
      "[INFO] Now processing: TZA, URL=https://data.humdata.org/dataset/wfp-food-prices-for-united-republic-of-tanzania\n",
      " - Downloaded: /Users/jaeeunc/Desktop/MDS/Block5/DS551/project/dataset/wfp_food_prices_tza.csv\n",
      "[INFO] Now processing: UGA, URL=https://data.humdata.org/dataset/wfp-food-prices-for-uganda\n",
      " - Downloaded: /Users/jaeeunc/Desktop/MDS/Block5/DS551/project/dataset/wfp_food_prices_uga.csv\n",
      "[INFO] Now processing: UKR, URL=https://data.humdata.org/dataset/wfp-food-prices-for-ukraine\n",
      " - Downloaded: /Users/jaeeunc/Desktop/MDS/Block5/DS551/project/dataset/wfp_food_prices_ukr.csv\n",
      "[INFO] Now processing: VEN, URL=https://data.humdata.org/dataset/wfp-food-prices-for-venezuela-bolivarian-republic-of\n",
      " - Downloaded: /Users/jaeeunc/Desktop/MDS/Block5/DS551/project/dataset/wfp_food_prices_ven.csv\n",
      "[INFO] Now processing: VNM, URL=https://data.humdata.org/dataset/wfp-food-prices-for-viet-nam\n",
      " - Downloaded: /Users/jaeeunc/Desktop/MDS/Block5/DS551/project/dataset/wfp_food_prices_vnm.csv\n",
      "[INFO] Now processing: YEM, URL=https://data.humdata.org/dataset/wfp-food-prices-for-yemen\n",
      " - Downloaded: /Users/jaeeunc/Desktop/MDS/Block5/DS551/project/dataset/wfp_food_prices_yem.csv\n",
      "[INFO] Now processing: ZAF, URL=https://data.humdata.org/dataset/wfp-food-prices-for-south-africa\n",
      " - Downloaded: /Users/jaeeunc/Desktop/MDS/Block5/DS551/project/dataset/wfp_food_prices_zaf.csv\n",
      "[INFO] Now processing: ZMB, URL=https://data.humdata.org/dataset/wfp-food-prices-for-zambia\n",
      " - Downloaded: /Users/jaeeunc/Desktop/MDS/Block5/DS551/project/dataset/wfp_food_prices_zmb.csv\n",
      "[INFO] Now processing: ZWE, URL=https://data.humdata.org/dataset/wfp-food-prices-for-zimbabwe\n",
      " - Downloaded: /Users/jaeeunc/Desktop/MDS/Block5/DS551/project/dataset/wfp_food_prices_zwe.csv\n"
     ]
    }
   ],
   "source": [
    "with open(CSV_FILE_PATH, newline=\"\", encoding=\"utf-8\") as f:\n",
    "    reader = csv.reader(f)\n",
    "\n",
    "    header = next(reader)\n",
    "\n",
    "    for i, row in enumerate(reader):\n",
    "        country_name = row[0].strip()\n",
    "        dataset_page_url = row[1].strip()\n",
    "\n",
    "        if not dataset_page_url:\n",
    "            continue\n",
    "\n",
    "        print(f\"[INFO] Now processing: {country_name}, URL={dataset_page_url}\")\n",
    "\n",
    "        try:\n",
    "            page_response = requests.get(dataset_page_url)\n",
    "            page_response.raise_for_status()\n",
    "        except Exception as e:\n",
    "            print(f\" - [ERROR] Failed to get dataset page: {e}\")\n",
    "\n",
    "        soup = BeautifulSoup(page_response.text, \"html.parser\")\n",
    "\n",
    "        download_link_tag = soup.find(\"a\", class_=\"resource-download-button\")\n",
    "\n",
    "        if not download_link_tag:\n",
    "            print(\" - [ERROR] No download link found in the page.\")\n",
    "            continue\n",
    "\n",
    "        download_href = download_link_tag.get(\"href\")\n",
    "        if not download_href:\n",
    "            print(\" - [ERROR] 'href' not found in the download link tag.\")\n",
    "            continue\n",
    "\n",
    "        full_download_url = urllib.parse.urljoin(dataset_page_url, download_href)\n",
    "\n",
    "        try:\n",
    "            file_response = requests.get(full_download_url, stream=True)\n",
    "            file_response.raise_for_status()\n",
    "        except Exception as e:\n",
    "            print(f\" - [ERROR] Failed to download file: {e}\")\n",
    "            continue\n",
    "\n",
    "        filename = os.path.basename(download_href)\n",
    "        if not filename:\n",
    "            filename = country_name.replace(\" \", \"_\") + \".csv\"\n",
    "\n",
    "        output_path = os.path.join(OUTPUT_DIR, filename)\n",
    "\n",
    "        with open(output_path, \"wb\") as out_file:\n",
    "            for chunk in file_response.iter_content(chunk_size=8192):\n",
    "                out_file.write(chunk)\n",
    "\n",
    "        print(f\" - Downloaded: {output_path}\")"
   ]
  },
  {
   "cell_type": "code",
   "execution_count": 5,
   "metadata": {},
   "outputs": [
    {
     "name": "stdout",
     "output_type": "stream",
     "text": [
      "There are 101 files.\n"
     ]
    }
   ],
   "source": [
    "file_list = os.listdir(OUTPUT_DIR)\n",
    "file_count = len(file_list)\n",
    "print(f\"There are {file_count} files.\")"
   ]
  },
  {
   "cell_type": "code",
   "execution_count": 6,
   "metadata": {},
   "outputs": [],
   "source": [
    "file_list.remove(\"wfp_countries_global.csv\")\n",
    "file_list.remove(\".DS_Store\")"
   ]
  },
  {
   "cell_type": "code",
   "execution_count": 7,
   "metadata": {},
   "outputs": [
    {
     "name": "stdout",
     "output_type": "stream",
     "text": [
      "There are 99 files.\n"
     ]
    }
   ],
   "source": [
    "print(f\"There are {len(file_list)} files.\")"
   ]
  },
  {
   "cell_type": "code",
   "execution_count": 20,
   "metadata": {},
   "outputs": [
    {
     "data": {
      "text/plain": [
       "(2903527, 15)"
      ]
     },
     "execution_count": 20,
     "metadata": {},
     "output_type": "execute_result"
    }
   ],
   "source": [
    "df_list = []\n",
    "error_files = {}\n",
    "for file in file_list:\n",
    "    try:\n",
    "        df = pd.read_csv(OUTPUT_DIR + \"/\" + file, header=0, skiprows=[1])\n",
    "        df[\"country\"] = file.split(\".\")[0].split(\"_\")[-1].upper()\n",
    "        df_list.append(df)\n",
    "    except Exception as e:\n",
    "        print(file, e)\n",
    "        error_files[file] = str(e)\n",
    "        continue\n",
    "\n",
    "df = pd.concat(df_list, ignore_index=True)\n",
    "df.shape"
   ]
  },
  {
   "cell_type": "code",
   "execution_count": 22,
   "metadata": {},
   "outputs": [
    {
     "data": {
      "text/plain": [
       "99"
      ]
     },
     "execution_count": 22,
     "metadata": {},
     "output_type": "execute_result"
    }
   ],
   "source": [
    "df[\"country\"].nunique()"
   ]
  },
  {
   "cell_type": "code",
   "execution_count": 27,
   "metadata": {},
   "outputs": [
    {
     "data": {
      "text/html": [
       "<div>\n",
       "<style scoped>\n",
       "    .dataframe tbody tr th:only-of-type {\n",
       "        vertical-align: middle;\n",
       "    }\n",
       "\n",
       "    .dataframe tbody tr th {\n",
       "        vertical-align: top;\n",
       "    }\n",
       "\n",
       "    .dataframe thead th {\n",
       "        text-align: right;\n",
       "    }\n",
       "</style>\n",
       "<table border=\"1\" class=\"dataframe\">\n",
       "  <thead>\n",
       "    <tr style=\"text-align: right;\">\n",
       "      <th></th>\n",
       "      <th>date</th>\n",
       "      <th>admin1</th>\n",
       "      <th>admin2</th>\n",
       "      <th>market</th>\n",
       "      <th>latitude</th>\n",
       "      <th>longitude</th>\n",
       "      <th>category</th>\n",
       "      <th>commodity</th>\n",
       "      <th>unit</th>\n",
       "      <th>priceflag</th>\n",
       "      <th>pricetype</th>\n",
       "      <th>currency</th>\n",
       "      <th>price</th>\n",
       "      <th>usdprice</th>\n",
       "      <th>country</th>\n",
       "    </tr>\n",
       "  </thead>\n",
       "  <tbody>\n",
       "    <tr>\n",
       "      <th>0</th>\n",
       "      <td>2004-04-15</td>\n",
       "      <td>NaN</td>\n",
       "      <td>NaN</td>\n",
       "      <td>National Average</td>\n",
       "      <td>NaN</td>\n",
       "      <td>NaN</td>\n",
       "      <td>cereals and tubers</td>\n",
       "      <td>Maize (white)</td>\n",
       "      <td>50 KG</td>\n",
       "      <td>actual</td>\n",
       "      <td>Wholesale</td>\n",
       "      <td>SZL</td>\n",
       "      <td>57.5</td>\n",
       "      <td>8.7386</td>\n",
       "      <td>SWZ</td>\n",
       "    </tr>\n",
       "    <tr>\n",
       "      <th>1</th>\n",
       "      <td>2004-05-15</td>\n",
       "      <td>NaN</td>\n",
       "      <td>NaN</td>\n",
       "      <td>National Average</td>\n",
       "      <td>NaN</td>\n",
       "      <td>NaN</td>\n",
       "      <td>cereals and tubers</td>\n",
       "      <td>Maize (white)</td>\n",
       "      <td>50 KG</td>\n",
       "      <td>actual</td>\n",
       "      <td>Wholesale</td>\n",
       "      <td>SZL</td>\n",
       "      <td>57.5</td>\n",
       "      <td>8.5912</td>\n",
       "      <td>SWZ</td>\n",
       "    </tr>\n",
       "    <tr>\n",
       "      <th>2</th>\n",
       "      <td>2004-07-15</td>\n",
       "      <td>NaN</td>\n",
       "      <td>NaN</td>\n",
       "      <td>National Average</td>\n",
       "      <td>NaN</td>\n",
       "      <td>NaN</td>\n",
       "      <td>cereals and tubers</td>\n",
       "      <td>Maize (white)</td>\n",
       "      <td>50 KG</td>\n",
       "      <td>actual</td>\n",
       "      <td>Wholesale</td>\n",
       "      <td>SZL</td>\n",
       "      <td>57.5</td>\n",
       "      <td>9.3801</td>\n",
       "      <td>SWZ</td>\n",
       "    </tr>\n",
       "    <tr>\n",
       "      <th>3</th>\n",
       "      <td>2004-08-15</td>\n",
       "      <td>NaN</td>\n",
       "      <td>NaN</td>\n",
       "      <td>National Average</td>\n",
       "      <td>NaN</td>\n",
       "      <td>NaN</td>\n",
       "      <td>cereals and tubers</td>\n",
       "      <td>Maize (white)</td>\n",
       "      <td>50 KG</td>\n",
       "      <td>actual</td>\n",
       "      <td>Wholesale</td>\n",
       "      <td>SZL</td>\n",
       "      <td>57.5</td>\n",
       "      <td>8.9072</td>\n",
       "      <td>SWZ</td>\n",
       "    </tr>\n",
       "    <tr>\n",
       "      <th>4</th>\n",
       "      <td>2004-09-15</td>\n",
       "      <td>NaN</td>\n",
       "      <td>NaN</td>\n",
       "      <td>National Average</td>\n",
       "      <td>NaN</td>\n",
       "      <td>NaN</td>\n",
       "      <td>cereals and tubers</td>\n",
       "      <td>Maize (white)</td>\n",
       "      <td>50 KG</td>\n",
       "      <td>actual</td>\n",
       "      <td>Wholesale</td>\n",
       "      <td>SZL</td>\n",
       "      <td>57.5</td>\n",
       "      <td>8.8872</td>\n",
       "      <td>SWZ</td>\n",
       "    </tr>\n",
       "  </tbody>\n",
       "</table>\n",
       "</div>"
      ],
      "text/plain": [
       "         date admin1 admin2            market  latitude  longitude  \\\n",
       "0  2004-04-15    NaN    NaN  National Average       NaN        NaN   \n",
       "1  2004-05-15    NaN    NaN  National Average       NaN        NaN   \n",
       "2  2004-07-15    NaN    NaN  National Average       NaN        NaN   \n",
       "3  2004-08-15    NaN    NaN  National Average       NaN        NaN   \n",
       "4  2004-09-15    NaN    NaN  National Average       NaN        NaN   \n",
       "\n",
       "             category      commodity   unit priceflag  pricetype currency  \\\n",
       "0  cereals and tubers  Maize (white)  50 KG    actual  Wholesale      SZL   \n",
       "1  cereals and tubers  Maize (white)  50 KG    actual  Wholesale      SZL   \n",
       "2  cereals and tubers  Maize (white)  50 KG    actual  Wholesale      SZL   \n",
       "3  cereals and tubers  Maize (white)  50 KG    actual  Wholesale      SZL   \n",
       "4  cereals and tubers  Maize (white)  50 KG    actual  Wholesale      SZL   \n",
       "\n",
       "   price  usdprice country  \n",
       "0   57.5    8.7386     SWZ  \n",
       "1   57.5    8.5912     SWZ  \n",
       "2   57.5    9.3801     SWZ  \n",
       "3   57.5    8.9072     SWZ  \n",
       "4   57.5    8.8872     SWZ  "
      ]
     },
     "execution_count": 27,
     "metadata": {},
     "output_type": "execute_result"
    }
   ],
   "source": [
    "df.head()"
   ]
  },
  {
   "cell_type": "code",
   "execution_count": null,
   "metadata": {},
   "outputs": [],
   "source": [
    "df[\"date\"] = pd.to_datetime(df[\"date\"], format=\"%Y-%m-%d\", errors=\"coerce\")"
   ]
  },
  {
   "cell_type": "code",
   "execution_count": 30,
   "metadata": {},
   "outputs": [
    {
     "data": {
      "text/plain": [
       "date         datetime64[ns]\n",
       "admin1               object\n",
       "admin2               object\n",
       "market               object\n",
       "latitude            float64\n",
       "longitude           float64\n",
       "category             object\n",
       "commodity            object\n",
       "unit                 object\n",
       "priceflag            object\n",
       "pricetype            object\n",
       "currency             object\n",
       "price               float64\n",
       "usdprice            float64\n",
       "country              object\n",
       "dtype: object"
      ]
     },
     "execution_count": 30,
     "metadata": {},
     "output_type": "execute_result"
    }
   ],
   "source": [
    "df.dtypes"
   ]
  },
  {
   "cell_type": "code",
   "execution_count": 32,
   "metadata": {},
   "outputs": [],
   "source": [
    "df.to_parquet(\"./dataset/wfp_dataset.parquet\")"
   ]
  }
 ],
 "metadata": {
  "kernelspec": {
   "display_name": ".venv",
   "language": "python",
   "name": "python3"
  },
  "language_info": {
   "codemirror_mode": {
    "name": "ipython",
    "version": 3
   },
   "file_extension": ".py",
   "mimetype": "text/x-python",
   "name": "python",
   "nbconvert_exporter": "python",
   "pygments_lexer": "ipython3",
   "version": "3.11.9"
  }
 },
 "nbformat": 4,
 "nbformat_minor": 2
}
